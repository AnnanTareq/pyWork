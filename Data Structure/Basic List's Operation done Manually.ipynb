{
 "cells": [
  {
   "cell_type": "code",
   "execution_count": 106,
   "id": "9a3d099e",
   "metadata": {},
   "outputs": [],
   "source": [
    "import ctypes"
   ]
  },
  {
   "cell_type": "code",
   "execution_count": 269,
   "id": "2999e703",
   "metadata": {},
   "outputs": [],
   "source": [
    "class list:\n",
    "    \n",
    "    def __init__(self):\n",
    "        self.size = 1\n",
    "        self.n = 0\n",
    "        self.A =  self.__make_array(self.size)\n",
    "        \n",
    "    def __make_array(self,size):\n",
    "        return (size*ctypes.py_object)()\n",
    "    \n",
    "    def __resize(self, new_size):\n",
    "        B = self.__make_array(new_size)\n",
    "        self.size = new_size\n",
    "        for i in range(self.n):\n",
    "            B[i] = self.A[i]\n",
    "        self.A = B\n",
    "    \n",
    "    def __str__(self):\n",
    "        res = ' '\n",
    "        for i in range(self.n):\n",
    "            res = res + str(self.A[i]) + ','\n",
    "        return '['+res[:-1]+']'\n",
    "        \n",
    "    def append(self, value):\n",
    "        if self.n == self.size:\n",
    "            self.__resize(self.size*2)\n",
    "        \n",
    "        self.A[self.n] = value\n",
    "        self.n = self.n + 1\n",
    "    \n",
    "    def remove(self, value):\n",
    "        pos = self.find(value)\n",
    "        \n",
    "        if type(pos) == int:\n",
    "            self.del_item_by_position(pos)\n",
    "        else:\n",
    "            return pos\n",
    "    \n",
    "    def get_item(self, index):\n",
    "        if index > self.n-1:\n",
    "            return 'Out of index'\n",
    "        else:\n",
    "            return self.A[index] \n",
    "    \n",
    "    def del_item(self, item):\n",
    "        for i in range(self.n):\n",
    "            if self.A[i] == item:\n",
    "                self.A[i] = self.A[i-1]\n",
    "                self.n = self.n - 1\n",
    "            else:\n",
    "                return 'Not found'\n",
    "            \n",
    "    def del_item_by_position(self, pos):\n",
    "        if 0<= pos < self.n:\n",
    "            for i in range(pos, self.n-1):\n",
    "                self.A[i] = self.A[i+1]\n",
    "            self.n = self.n - 1\n",
    "            \n",
    "    def pop(self):\n",
    "        if self.n == 0:\n",
    "            return 'Empty list'\n",
    "        print(self.A[self.n-1])\n",
    "        self.n = self.n - 1\n",
    "        \n",
    "    def find(self, value):\n",
    "        for i in range(self.n):\n",
    "            if self.A[i] ==  value:\n",
    "                return i\n",
    "        return 'Not found'\n",
    "    \n",
    "    def clear(self):\n",
    "        self.size = 1\n",
    "        self.n = 0\n",
    "    \n",
    "    def __len__(self):\n",
    "        return self.n"
   ]
  },
  {
   "cell_type": "code",
   "execution_count": 270,
   "id": "a5c4b272",
   "metadata": {},
   "outputs": [],
   "source": [
    "l = list()"
   ]
  },
  {
   "cell_type": "code",
   "execution_count": 271,
   "id": "14eb136b",
   "metadata": {},
   "outputs": [
    {
     "data": {
      "text/plain": [
       "0"
      ]
     },
     "execution_count": 271,
     "metadata": {},
     "output_type": "execute_result"
    }
   ],
   "source": [
    "len(l)"
   ]
  },
  {
   "cell_type": "code",
   "execution_count": 272,
   "id": "f5f46444",
   "metadata": {},
   "outputs": [],
   "source": [
    "l.append(1)\n",
    "l.append(2)\n",
    "l.append(3)\n",
    "l.append(4)"
   ]
  },
  {
   "cell_type": "code",
   "execution_count": 273,
   "id": "bf936d1b",
   "metadata": {},
   "outputs": [
    {
     "data": {
      "text/plain": [
       "4"
      ]
     },
     "execution_count": 273,
     "metadata": {},
     "output_type": "execute_result"
    }
   ],
   "source": [
    "len(l)"
   ]
  },
  {
   "cell_type": "code",
   "execution_count": 274,
   "id": "f67f5119",
   "metadata": {},
   "outputs": [
    {
     "name": "stdout",
     "output_type": "stream",
     "text": [
      "[ 1,2,3,4]\n"
     ]
    }
   ],
   "source": [
    "print(l)"
   ]
  },
  {
   "cell_type": "code",
   "execution_count": 227,
   "id": "4a78d683",
   "metadata": {},
   "outputs": [],
   "source": [
    "l.del_item_by_position(0)"
   ]
  },
  {
   "cell_type": "code",
   "execution_count": 255,
   "id": "f3095e47",
   "metadata": {},
   "outputs": [
    {
     "name": "stdout",
     "output_type": "stream",
     "text": [
      "<class 'int'>\n"
     ]
    }
   ],
   "source": [
    "l.remove(1)"
   ]
  },
  {
   "cell_type": "code",
   "execution_count": 159,
   "id": "30be73fa",
   "metadata": {},
   "outputs": [],
   "source": [
    "l.append(2)"
   ]
  },
  {
   "cell_type": "code",
   "execution_count": 160,
   "id": "67d2cebd",
   "metadata": {},
   "outputs": [
    {
     "data": {
      "text/plain": [
       "4"
      ]
     },
     "execution_count": 160,
     "metadata": {},
     "output_type": "execute_result"
    }
   ],
   "source": [
    "l.size"
   ]
  },
  {
   "cell_type": "code",
   "execution_count": 142,
   "id": "8977f13c",
   "metadata": {},
   "outputs": [
    {
     "data": {
      "text/plain": [
       "2"
      ]
     },
     "execution_count": 142,
     "metadata": {},
     "output_type": "execute_result"
    }
   ],
   "source": [
    "l.n"
   ]
  },
  {
   "cell_type": "code",
   "execution_count": 143,
   "id": "ff1a1f64",
   "metadata": {},
   "outputs": [],
   "source": [
    "l.append(3)"
   ]
  },
  {
   "cell_type": "code",
   "execution_count": 144,
   "id": "02654e1f",
   "metadata": {},
   "outputs": [
    {
     "data": {
      "text/plain": [
       "3"
      ]
     },
     "execution_count": 144,
     "metadata": {},
     "output_type": "execute_result"
    }
   ],
   "source": [
    "l.n"
   ]
  },
  {
   "cell_type": "code",
   "execution_count": 145,
   "id": "469ac7f5",
   "metadata": {},
   "outputs": [
    {
     "data": {
      "text/plain": [
       "4"
      ]
     },
     "execution_count": 145,
     "metadata": {},
     "output_type": "execute_result"
    }
   ],
   "source": [
    "l.size"
   ]
  },
  {
   "cell_type": "code",
   "execution_count": 163,
   "id": "5f51c0dd",
   "metadata": {},
   "outputs": [],
   "source": [
    "l.clear()"
   ]
  },
  {
   "cell_type": "code",
   "execution_count": 164,
   "id": "96c9626f",
   "metadata": {},
   "outputs": [
    {
     "data": {
      "text/plain": [
       "0"
      ]
     },
     "execution_count": 164,
     "metadata": {},
     "output_type": "execute_result"
    }
   ],
   "source": [
    "len(l)"
   ]
  },
  {
   "cell_type": "code",
   "execution_count": 261,
   "id": "01fa219d",
   "metadata": {},
   "outputs": [],
   "source": [
    "l.del_item_by_position(1)"
   ]
  },
  {
   "cell_type": "code",
   "execution_count": 262,
   "id": "9bd16c17",
   "metadata": {},
   "outputs": [
    {
     "name": "stdout",
     "output_type": "stream",
     "text": [
      " 134\n"
     ]
    }
   ],
   "source": [
    "print(l)"
   ]
  },
  {
   "cell_type": "code",
   "execution_count": 275,
   "id": "2a8ffe1c",
   "metadata": {},
   "outputs": [
    {
     "data": {
      "text/plain": [
       "0"
      ]
     },
     "execution_count": 275,
     "metadata": {},
     "output_type": "execute_result"
    }
   ],
   "source": [
    "l.find(1)"
   ]
  },
  {
   "cell_type": "code",
   "execution_count": 276,
   "id": "dce6a7d8",
   "metadata": {},
   "outputs": [
    {
     "name": "stdout",
     "output_type": "stream",
     "text": [
      "4\n"
     ]
    }
   ],
   "source": [
    "l.pop()"
   ]
  },
  {
   "cell_type": "code",
   "execution_count": 277,
   "id": "abd86457",
   "metadata": {},
   "outputs": [
    {
     "data": {
      "text/plain": [
       "'Not found'"
      ]
     },
     "execution_count": 277,
     "metadata": {},
     "output_type": "execute_result"
    }
   ],
   "source": [
    "l.del_item(4)"
   ]
  },
  {
   "cell_type": "code",
   "execution_count": null,
   "id": "fab5d7ec",
   "metadata": {},
   "outputs": [],
   "source": []
  }
 ],
 "metadata": {
  "kernelspec": {
   "display_name": "Python 3 (ipykernel)",
   "language": "python",
   "name": "python3"
  },
  "language_info": {
   "codemirror_mode": {
    "name": "ipython",
    "version": 3
   },
   "file_extension": ".py",
   "mimetype": "text/x-python",
   "name": "python",
   "nbconvert_exporter": "python",
   "pygments_lexer": "ipython3",
   "version": "3.9.16"
  }
 },
 "nbformat": 4,
 "nbformat_minor": 5
}
