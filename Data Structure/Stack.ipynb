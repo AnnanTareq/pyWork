{
 "cells": [
  {
   "cell_type": "code",
   "execution_count": 1,
   "id": "585e9739",
   "metadata": {},
   "outputs": [],
   "source": [
    "class Node:\n",
    "    def __init__(self, value):\n",
    "        self.data = value\n",
    "        self.next = None"
   ]
  },
  {
   "cell_type": "code",
   "execution_count": 2,
   "id": "5aea917e",
   "metadata": {},
   "outputs": [],
   "source": [
    "class Stack:\n",
    "    def __init__(self):\n",
    "        self.top = None\n",
    "    \n",
    "    def is_empty(self):\n",
    "        return self.top == None\n",
    "    \n",
    "    def traverse(self):\n",
    "        temp = self.top\n",
    "        while temp != None:\n",
    "            print(temp.data)\n",
    "           \n",
    "            temp = temp.next\n",
    "    \n",
    "    def push(self, value):\n",
    "        new_node = Node(value)\n",
    "        new_node.next = self.top\n",
    "        self.top = new_node\n",
    "    \n",
    "    def pop(self):\n",
    "        if(self.is_empty()):\n",
    "            return 'Stack is Empty'\n",
    "        else:\n",
    "            data = self.top.data\n",
    "            self.top = self.top.next\n",
    "            return data\n",
    "    \n",
    "    def peak(self):\n",
    "        if(self.is_empty()):\n",
    "            return 'Stack is Empty'\n",
    "        else:\n",
    "            return self.top.data\n",
    "    \n",
    "    def size(self):\n",
    "        temp = self.top\n",
    "        count = 0\n",
    "        \n",
    "        while temp is not None:\n",
    "            temp = temp.next\n",
    "            count = count + 1\n",
    "        return count\n",
    "            \n",
    "    "
   ]
  },
  {
   "cell_type": "code",
   "execution_count": 3,
   "id": "2d175b81",
   "metadata": {},
   "outputs": [],
   "source": [
    "st = Stack()"
   ]
  },
  {
   "cell_type": "code",
   "execution_count": 84,
   "id": "84083e21",
   "metadata": {},
   "outputs": [
    {
     "data": {
      "text/plain": [
       "True"
      ]
     },
     "execution_count": 84,
     "metadata": {},
     "output_type": "execute_result"
    }
   ],
   "source": [
    "st.is_empty()"
   ]
  },
  {
   "cell_type": "code",
   "execution_count": 94,
   "id": "6a50190f",
   "metadata": {},
   "outputs": [],
   "source": [
    "st.push(1)\n",
    "st.push(2)\n",
    "st.push(3)\n",
    "st.push(4)\n"
   ]
  },
  {
   "cell_type": "code",
   "execution_count": 86,
   "id": "ff4b91b4",
   "metadata": {},
   "outputs": [
    {
     "data": {
      "text/plain": [
       "False"
      ]
     },
     "execution_count": 86,
     "metadata": {},
     "output_type": "execute_result"
    }
   ],
   "source": [
    "st.is_empty()"
   ]
  },
  {
   "cell_type": "code",
   "execution_count": 95,
   "id": "e38babfd",
   "metadata": {},
   "outputs": [
    {
     "name": "stdout",
     "output_type": "stream",
     "text": [
      "4\n",
      "3\n",
      "2\n",
      "1\n"
     ]
    }
   ],
   "source": [
    "st.traverse()"
   ]
  },
  {
   "cell_type": "code",
   "execution_count": 88,
   "id": "139f6bae",
   "metadata": {},
   "outputs": [
    {
     "data": {
      "text/plain": [
       "4"
      ]
     },
     "execution_count": 88,
     "metadata": {},
     "output_type": "execute_result"
    }
   ],
   "source": [
    "st.pop()"
   ]
  },
  {
   "cell_type": "code",
   "execution_count": 89,
   "id": "1cac7aa4",
   "metadata": {},
   "outputs": [
    {
     "name": "stdout",
     "output_type": "stream",
     "text": [
      "3\n",
      "2\n",
      "1\n"
     ]
    }
   ],
   "source": [
    "st.traverse()"
   ]
  },
  {
   "cell_type": "code",
   "execution_count": 96,
   "id": "2aca714f",
   "metadata": {},
   "outputs": [
    {
     "data": {
      "text/plain": [
       "4"
      ]
     },
     "execution_count": 96,
     "metadata": {},
     "output_type": "execute_result"
    }
   ],
   "source": [
    "st.peak()"
   ]
  },
  {
   "cell_type": "code",
   "execution_count": 68,
   "id": "29a40ef7",
   "metadata": {},
   "outputs": [
    {
     "data": {
      "text/plain": [
       "2342559680448"
      ]
     },
     "execution_count": 68,
     "metadata": {},
     "output_type": "execute_result"
    }
   ],
   "source": [
    "int(0x2216b7007c0)"
   ]
  },
  {
   "cell_type": "code",
   "execution_count": 97,
   "id": "542b40ad",
   "metadata": {},
   "outputs": [
    {
     "data": {
      "text/plain": [
       "4"
      ]
     },
     "execution_count": 97,
     "metadata": {},
     "output_type": "execute_result"
    }
   ],
   "source": [
    "st.size()"
   ]
  },
  {
   "cell_type": "code",
   "execution_count": 4,
   "id": "c84c8434",
   "metadata": {},
   "outputs": [],
   "source": [
    "def reverse(text):\n",
    "    s = Stack()\n",
    "    \n",
    "    for i in text:\n",
    "        s.push(i)\n",
    "    res = ''\n",
    "    while (not s.is_empty()):\n",
    "        res = res + s.pop()\n",
    "    print(res)"
   ]
  },
  {
   "cell_type": "code",
   "execution_count": 5,
   "id": "6c0abde8",
   "metadata": {},
   "outputs": [
    {
     "name": "stdout",
     "output_type": "stream",
     "text": [
      "qerat\n"
     ]
    }
   ],
   "source": [
    "reverse('tareq')"
   ]
  },
  {
   "cell_type": "code",
   "execution_count": 8,
   "id": "d0d45960",
   "metadata": {},
   "outputs": [],
   "source": [
    "def text_editor(text, pattern):\n",
    "    u = Stack()\n",
    "    r = Stack()\n",
    "    \n",
    "    for i in text:\n",
    "        u.push(i)\n",
    "    for i in pattern:\n",
    "        if i == 'u':\n",
    "            data = u.pop()\n",
    "            r.push(data)\n",
    "        elif i == 'r':\n",
    "            data = r.pop()\n",
    "            u.push(data)\n",
    "            \n",
    "    res = ''\n",
    "    while (not u.is_empty()):\n",
    "        res = u.pop()+res\n",
    "    print(res)"
   ]
  },
  {
   "cell_type": "code",
   "execution_count": 27,
   "id": "892a32dd",
   "metadata": {},
   "outputs": [
    {
     "name": "stdout",
     "output_type": "stream",
     "text": [
      "hello world\n"
     ]
    }
   ],
   "source": [
    "text_editor('hello world','uururuurrr')"
   ]
  },
  {
   "cell_type": "code",
   "execution_count": null,
   "id": "1a7fb12a",
   "metadata": {},
   "outputs": [],
   "source": []
  }
 ],
 "metadata": {
  "kernelspec": {
   "display_name": "Python 3 (ipykernel)",
   "language": "python",
   "name": "python3"
  },
  "language_info": {
   "codemirror_mode": {
    "name": "ipython",
    "version": 3
   },
   "file_extension": ".py",
   "mimetype": "text/x-python",
   "name": "python",
   "nbconvert_exporter": "python",
   "pygments_lexer": "ipython3",
   "version": "3.9.16"
  }
 },
 "nbformat": 4,
 "nbformat_minor": 5
}
