{
 "cells": [
  {
   "cell_type": "code",
   "execution_count": 130,
   "id": "17ee980d",
   "metadata": {},
   "outputs": [],
   "source": [
    "class Node:\n",
    "    def __init__(self, value):\n",
    "        self.data = value\n",
    "        self.next = None\n",
    "    "
   ]
  },
  {
   "cell_type": "code",
   "execution_count": 131,
   "id": "d6031e42",
   "metadata": {},
   "outputs": [],
   "source": [
    "class Stack:\n",
    "    def __init__(self):\n",
    "        self.top = None\n",
    "        self.n = 0\n",
    "    \n",
    "    def traverse(self):\n",
    "        temp = self.top\n",
    "        res = ''\n",
    "        while temp != None:\n",
    "            res = res + str(temp.data) + ','\n",
    "            temp = temp.next\n",
    "        return '[' + res[:-1] + ']'\n",
    "    \n",
    "    def push(self, value):\n",
    "        if value == 'Empty':\n",
    "            return 'Empty stack'\n",
    "        else:\n",
    "            new_node = Node(value)\n",
    "            new_node.next = self.top\n",
    "            self.top = new_node\n",
    "            self.n = self.n + 1\n",
    "\n",
    "    def pop(self):\n",
    "        if self.top == None:\n",
    "            return 'Empty'\n",
    "        else:\n",
    "            data = self.top.data\n",
    "            self.top = self.top.next\n",
    "            self.n = self.n -1\n",
    "        return data\n",
    "    \n",
    "          "
   ]
  },
  {
   "cell_type": "code",
   "execution_count": 132,
   "id": "452a252c",
   "metadata": {},
   "outputs": [],
   "source": [
    "s1 = Stack()\n",
    "s2 = Stack()"
   ]
  },
  {
   "cell_type": "code",
   "execution_count": 133,
   "id": "d1b8e706",
   "metadata": {},
   "outputs": [],
   "source": [
    "s1.push(11)\n",
    "s1.push(22)\n",
    "s1.push(33)\n",
    "    "
   ]
  },
  {
   "cell_type": "code",
   "execution_count": 134,
   "id": "498a82f7",
   "metadata": {},
   "outputs": [],
   "source": [
    "class Queue:\n",
    "    \n",
    "    def enqueue(self, value):\n",
    "        s1.push(value)\n",
    "    \n",
    "    def transfer(self):\n",
    "        \n",
    "        while s1.top != None:\n",
    "            s2.push(s1.pop())\n",
    "    \n",
    "    def dequeue(self):\n",
    "     \n",
    "        if s1.top != None:\n",
    "            self.transfer()\n",
    "            print('Shifting value(s)')\n",
    "        else:\n",
    "            data = s2.pop()\n",
    "            print(data)\n",
    "\n",
    "            \n",
    "    "
   ]
  },
  {
   "cell_type": "code",
   "execution_count": 135,
   "id": "e6360946",
   "metadata": {},
   "outputs": [],
   "source": [
    "q = Queue()"
   ]
  },
  {
   "cell_type": "code",
   "execution_count": 146,
   "id": "f4ed70db",
   "metadata": {},
   "outputs": [],
   "source": [
    "q.enqueue('hi')"
   ]
  },
  {
   "cell_type": "code",
   "execution_count": 149,
   "id": "f81b638c",
   "metadata": {},
   "outputs": [
    {
     "data": {
      "text/plain": [
       "'[]'"
      ]
     },
     "execution_count": 149,
     "metadata": {},
     "output_type": "execute_result"
    }
   ],
   "source": [
    "s1.traverse()"
   ]
  },
  {
   "cell_type": "code",
   "execution_count": 143,
   "id": "619ff4cf",
   "metadata": {},
   "outputs": [],
   "source": [
    "q.transfer()"
   ]
  },
  {
   "cell_type": "code",
   "execution_count": 148,
   "id": "a758834e",
   "metadata": {},
   "outputs": [
    {
     "data": {
      "text/plain": [
       "'[hi,11,22,33]'"
      ]
     },
     "execution_count": 148,
     "metadata": {},
     "output_type": "execute_result"
    }
   ],
   "source": [
    "s2.traverse()"
   ]
  },
  {
   "cell_type": "code",
   "execution_count": 147,
   "id": "b1fb53f8",
   "metadata": {},
   "outputs": [
    {
     "name": "stdout",
     "output_type": "stream",
     "text": [
      "Shifting value(s)\n"
     ]
    }
   ],
   "source": [
    "q.dequeue()"
   ]
  },
  {
   "cell_type": "code",
   "execution_count": 150,
   "id": "aedb19ab",
   "metadata": {},
   "outputs": [
    {
     "data": {
      "text/plain": [
       "0"
      ]
     },
     "execution_count": 150,
     "metadata": {},
     "output_type": "execute_result"
    }
   ],
   "source": [
    "s1.n"
   ]
  },
  {
   "cell_type": "code",
   "execution_count": 151,
   "id": "01a6cbee",
   "metadata": {},
   "outputs": [
    {
     "data": {
      "text/plain": [
       "4"
      ]
     },
     "execution_count": 151,
     "metadata": {},
     "output_type": "execute_result"
    }
   ],
   "source": [
    "s2.n"
   ]
  },
  {
   "cell_type": "code",
   "execution_count": 152,
   "id": "2c6ccff3",
   "metadata": {},
   "outputs": [
    {
     "data": {
      "text/plain": [
       "'[hi,11,22,33]'"
      ]
     },
     "execution_count": 152,
     "metadata": {},
     "output_type": "execute_result"
    }
   ],
   "source": [
    "s2.traverse()"
   ]
  },
  {
   "cell_type": "code",
   "execution_count": null,
   "id": "5796f5b0",
   "metadata": {},
   "outputs": [],
   "source": []
  }
 ],
 "metadata": {
  "kernelspec": {
   "display_name": "Python 3 (ipykernel)",
   "language": "python",
   "name": "python3"
  },
  "language_info": {
   "codemirror_mode": {
    "name": "ipython",
    "version": 3
   },
   "file_extension": ".py",
   "mimetype": "text/x-python",
   "name": "python",
   "nbconvert_exporter": "python",
   "pygments_lexer": "ipython3",
   "version": "3.9.16"
  }
 },
 "nbformat": 4,
 "nbformat_minor": 5
}
